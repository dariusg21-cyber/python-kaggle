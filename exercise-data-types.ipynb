{
 "cells": [
  {
   "cell_type": "markdown",
   "id": "e57d9cc5",
   "metadata": {
    "papermill": {
     "duration": 0.008582,
     "end_time": "2023-06-03T08:58:43.901982",
     "exception": false,
     "start_time": "2023-06-03T08:58:43.893400",
     "status": "completed"
    },
    "tags": []
   },
   "source": [
    "**This notebook is an exercise in the [Intro to Programming](https://www.kaggle.com/learn/intro-to-programming) course.  You can reference the tutorial at [this link](https://www.kaggle.com/alexisbcook/data-types).**\n",
    "\n",
    "---\n"
   ]
  },
  {
   "cell_type": "markdown",
   "id": "3ec676e3",
   "metadata": {
    "papermill": {
     "duration": 0.007845,
     "end_time": "2023-06-03T08:58:43.917975",
     "exception": false,
     "start_time": "2023-06-03T08:58:43.910130",
     "status": "completed"
    },
    "tags": []
   },
   "source": [
    "In the tutorial, you learned about four different data types: floats, integers, strings, and booleans.  In this exercise, you'll experiment with them.\n",
    "\n",
    "# Set up the notebook\n",
    "\n",
    "Run the next code cell without changes to set up the notebook."
   ]
  },
  {
   "cell_type": "code",
   "execution_count": 1,
   "id": "d851685a",
   "metadata": {
    "execution": {
     "iopub.execute_input": "2023-06-03T08:58:43.936858Z",
     "iopub.status.busy": "2023-06-03T08:58:43.936251Z",
     "iopub.status.idle": "2023-06-03T08:58:43.982028Z",
     "shell.execute_reply": "2023-06-03T08:58:43.980790Z"
    },
    "papermill": {
     "duration": 0.058094,
     "end_time": "2023-06-03T08:58:43.984493",
     "exception": false,
     "start_time": "2023-06-03T08:58:43.926399",
     "status": "completed"
    },
    "tags": []
   },
   "outputs": [
    {
     "name": "stdout",
     "output_type": "stream",
     "text": [
      "Setup complete.\n"
     ]
    }
   ],
   "source": [
    "# Set up the exercise\n",
    "from learntools.core import binder\n",
    "binder.bind(globals())\n",
    "from learntools.intro_to_programming.ex3 import *\n",
    "print('Setup complete.')"
   ]
  },
  {
   "cell_type": "markdown",
   "id": "990dbe55",
   "metadata": {
    "papermill": {
     "duration": 0.007971,
     "end_time": "2023-06-03T08:58:44.001122",
     "exception": false,
     "start_time": "2023-06-03T08:58:43.993151",
     "status": "completed"
    },
    "tags": []
   },
   "source": [
    "# Question 1\n",
    "\n",
    "You have seen how to convert a float to an integer with the `int` function.  Try this out yourself by running the code cell below."
   ]
  },
  {
   "cell_type": "code",
   "execution_count": 2,
   "id": "50153bf2",
   "metadata": {
    "execution": {
     "iopub.execute_input": "2023-06-03T08:58:44.020445Z",
     "iopub.status.busy": "2023-06-03T08:58:44.020087Z",
     "iopub.status.idle": "2023-06-03T08:58:44.027020Z",
     "shell.execute_reply": "2023-06-03T08:58:44.025507Z"
    },
    "papermill": {
     "duration": 0.019799,
     "end_time": "2023-06-03T08:58:44.029062",
     "exception": false,
     "start_time": "2023-06-03T08:58:44.009263",
     "status": "completed"
    },
    "tags": []
   },
   "outputs": [
    {
     "name": "stdout",
     "output_type": "stream",
     "text": [
      "1.0\n",
      "<class 'float'>\n",
      "1\n",
      "<class 'int'>\n"
     ]
    }
   ],
   "source": [
    "# Define a float\n",
    "y = 1.\n",
    "print(y)\n",
    "print(type(y))\n",
    "\n",
    "# Convert float to integer with the int function\n",
    "z = int(y)\n",
    "print(z)\n",
    "print(type(z))"
   ]
  },
  {
   "cell_type": "markdown",
   "id": "f51cfd12",
   "metadata": {
    "papermill": {
     "duration": 0.008201,
     "end_time": "2023-06-03T08:58:44.045487",
     "exception": false,
     "start_time": "2023-06-03T08:58:44.037286",
     "status": "completed"
    },
    "tags": []
   },
   "source": [
    "In this case, the float you are using has no numbers after the decimal.  \n",
    "- But what happens when you try to convert a float with a fractional part to an integer?  \n",
    "- How does the outcome of the `int` function change for positive and negative numbers?\n",
    "\n",
    "Use the next code cell to investigate and answer these questions.  Feel free to add or remove any lines of code -- it is your workspace!"
   ]
  },
  {
   "cell_type": "code",
   "execution_count": 3,
   "id": "9b14e310",
   "metadata": {
    "execution": {
     "iopub.execute_input": "2023-06-03T08:58:44.064164Z",
     "iopub.status.busy": "2023-06-03T08:58:44.063739Z",
     "iopub.status.idle": "2023-06-03T08:58:44.069616Z",
     "shell.execute_reply": "2023-06-03T08:58:44.068558Z"
    },
    "papermill": {
     "duration": 0.018252,
     "end_time": "2023-06-03T08:58:44.072007",
     "exception": false,
     "start_time": "2023-06-03T08:58:44.053755",
     "status": "completed"
    },
    "tags": []
   },
   "outputs": [
    {
     "name": "stdout",
     "output_type": "stream",
     "text": [
      "1\n",
      "1\n",
      "-3\n",
      "-2\n"
     ]
    }
   ],
   "source": [
    "# Uncomment and run this code to get started!\n",
    "print(int(1.2321))\n",
    "print(int(1.747))\n",
    "print(int(-3.94535))\n",
    "print(int(-2.19774))"
   ]
  },
  {
   "cell_type": "markdown",
   "id": "5058fe65",
   "metadata": {
    "papermill": {
     "duration": 0.008056,
     "end_time": "2023-06-03T08:58:44.088324",
     "exception": false,
     "start_time": "2023-06-03T08:58:44.080268",
     "status": "completed"
    },
    "tags": []
   },
   "source": [
    "Once you have an answer, run the code cell below to see the solution.  Viewing the solution will give you credit for answering the problem."
   ]
  },
  {
   "cell_type": "code",
   "execution_count": 4,
   "id": "d3c38734",
   "metadata": {
    "execution": {
     "iopub.execute_input": "2023-06-03T08:58:44.106426Z",
     "iopub.status.busy": "2023-06-03T08:58:44.106039Z",
     "iopub.status.idle": "2023-06-03T08:58:44.115705Z",
     "shell.execute_reply": "2023-06-03T08:58:44.114657Z"
    },
    "papermill": {
     "duration": 0.02141,
     "end_time": "2023-06-03T08:58:44.117915",
     "exception": false,
     "start_time": "2023-06-03T08:58:44.096505",
     "status": "completed"
    },
    "tags": []
   },
   "outputs": [
    {
     "data": {
      "application/javascript": [
       "parent.postMessage({\"jupyterEvent\": \"custom.exercise_interaction\", \"data\": {\"outcomeType\": 1, \"valueTowardsCompletion\": 0.2, \"interactionType\": 1, \"questionType\": 4, \"questionId\": \"1_FloatToInt\", \"learnToolsVersion\": \"0.3.4\", \"failureMessage\": \"\", \"exceptionClass\": \"\", \"trace\": \"\"}}, \"*\")"
      ],
      "text/plain": [
       "<IPython.core.display.Javascript object>"
      ]
     },
     "metadata": {},
     "output_type": "display_data"
    },
    {
     "data": {
      "text/markdown": [
       "<span style=\"color:#33cc33\">Correct:</span> \n",
       "\n",
       "Negative floats are always rounded UP to the closest integer (for instance, both -1.1 and -1.9 are rounded up to -1). Positive floats are always rounded DOWN to the closest integer (for instance, 2.1 and 2.9 are rounded down to 2)."
      ],
      "text/plain": [
       "Correct: \n",
       "\n",
       "Negative floats are always rounded UP to the closest integer (for instance, both -1.1 and -1.9 are rounded up to -1). Positive floats are always rounded DOWN to the closest integer (for instance, 2.1 and 2.9 are rounded down to 2)."
      ]
     },
     "metadata": {},
     "output_type": "display_data"
    }
   ],
   "source": [
    "# Check your answer (Run this code cell to receive credit!)\n",
    "q1.check()"
   ]
  },
  {
   "cell_type": "markdown",
   "id": "b823aca9",
   "metadata": {
    "papermill": {
     "duration": 0.008458,
     "end_time": "2023-06-03T08:58:44.134940",
     "exception": false,
     "start_time": "2023-06-03T08:58:44.126482",
     "status": "completed"
    },
    "tags": []
   },
   "source": [
    "# Question 2\n",
    "\n",
    "In the tutorial, you learned about booleans (which can take a value of `True` or `False`), in addition to integers, floats, and strings.  For this question, your goal is to determine what happens when you multiply a boolean by any of these data types.  Specifically, \n",
    "- What happens when you multiply an integer or float by `True`?  What happens when you multiply them by `False`?  How does the answer change if the numbers are positive or negative?\n",
    "- What happens when you multiply a string by `True`?  By `False`?\n",
    "\n",
    "Use the next code cell for your investigation. "
   ]
  },
  {
   "cell_type": "code",
   "execution_count": 5,
   "id": "b6759510",
   "metadata": {
    "execution": {
     "iopub.execute_input": "2023-06-03T08:58:44.153433Z",
     "iopub.status.busy": "2023-06-03T08:58:44.153093Z",
     "iopub.status.idle": "2023-06-03T08:58:44.158563Z",
     "shell.execute_reply": "2023-06-03T08:58:44.157717Z"
    },
    "papermill": {
     "duration": 0.017808,
     "end_time": "2023-06-03T08:58:44.161160",
     "exception": false,
     "start_time": "2023-06-03T08:58:44.143352",
     "status": "completed"
    },
    "tags": []
   },
   "outputs": [
    {
     "name": "stdout",
     "output_type": "stream",
     "text": [
      "3\n",
      "-3.1\n",
      "<class 'str'>\n",
      "0\n"
     ]
    }
   ],
   "source": [
    "# Uncomment and run this code to get started!\n",
    "print(3 * True)\n",
    "print(-3.1 * True)\n",
    "print(type(\"abc\" * False))\n",
    "print(len(\"abc\" * False))"
   ]
  },
  {
   "cell_type": "markdown",
   "id": "5fb9dcc1",
   "metadata": {
    "papermill": {
     "duration": 0.008416,
     "end_time": "2023-06-03T08:58:44.178332",
     "exception": false,
     "start_time": "2023-06-03T08:58:44.169916",
     "status": "completed"
    },
    "tags": []
   },
   "source": [
    "Once you have an answer, run the code cell below to see the solution.  Viewing the solution will give you credit for answering the problem."
   ]
  },
  {
   "cell_type": "code",
   "execution_count": 6,
   "id": "ed993903",
   "metadata": {
    "execution": {
     "iopub.execute_input": "2023-06-03T08:58:44.197576Z",
     "iopub.status.busy": "2023-06-03T08:58:44.197226Z",
     "iopub.status.idle": "2023-06-03T08:58:44.205318Z",
     "shell.execute_reply": "2023-06-03T08:58:44.204289Z"
    },
    "papermill": {
     "duration": 0.020566,
     "end_time": "2023-06-03T08:58:44.207642",
     "exception": false,
     "start_time": "2023-06-03T08:58:44.187076",
     "status": "completed"
    },
    "tags": []
   },
   "outputs": [
    {
     "data": {
      "application/javascript": [
       "parent.postMessage({\"jupyterEvent\": \"custom.exercise_interaction\", \"data\": {\"outcomeType\": 1, \"valueTowardsCompletion\": 0.2, \"interactionType\": 1, \"questionType\": 4, \"questionId\": \"2_MultiplyBooleans\", \"learnToolsVersion\": \"0.3.4\", \"failureMessage\": \"\", \"exceptionClass\": \"\", \"trace\": \"\"}}, \"*\")"
      ],
      "text/plain": [
       "<IPython.core.display.Javascript object>"
      ]
     },
     "metadata": {},
     "output_type": "display_data"
    },
    {
     "data": {
      "text/markdown": [
       "<span style=\"color:#33cc33\">Correct:</span> \n",
       "\n",
       "When you multiple an integer or float by a boolean with value `True`, it just returns that same integer or float (and is equivalent to multiplying by 1).  If you multiply an integer or float by a boolean with value `False`, it always returns 0.  This is true for both positive and negative numbers.  If you multiply a string by a boolean with value `True`, it just returns that same string.  And if you multiply a string by a boolean with value `False`, it returns an empty string (or a string with length zero)."
      ],
      "text/plain": [
       "Correct: \n",
       "\n",
       "When you multiple an integer or float by a boolean with value `True`, it just returns that same integer or float (and is equivalent to multiplying by 1).  If you multiply an integer or float by a boolean with value `False`, it always returns 0.  This is true for both positive and negative numbers.  If you multiply a string by a boolean with value `True`, it just returns that same string.  And if you multiply a string by a boolean with value `False`, it returns an empty string (or a string with length zero)."
      ]
     },
     "metadata": {},
     "output_type": "display_data"
    }
   ],
   "source": [
    "# Check your answer (Run this code cell to receive credit!)\n",
    "q2.check()"
   ]
  },
  {
   "cell_type": "markdown",
   "id": "c7cfaf4b",
   "metadata": {
    "papermill": {
     "duration": 0.00874,
     "end_time": "2023-06-03T08:58:44.225683",
     "exception": false,
     "start_time": "2023-06-03T08:58:44.216943",
     "status": "completed"
    },
    "tags": []
   },
   "source": [
    "# Question 3\n",
    "\n",
    "In this question, you will build off your work from the previous exercise to write a function that estimates the value of a house.\n",
    "\n",
    "Use the next code cell to create a function `get_expected_cost` that takes as input three variables:\n",
    "- `beds` - number of bedrooms (data type float)\n",
    "- `baths` - number of bathrooms (data type float)\n",
    "- `has_basement` - whether or not the house has a basement (data type boolean)\n",
    "\n",
    "It should return the expected cost of a house with those characteristics. Assume that:\n",
    "- the expected cost for a house with 0 bedrooms and 0 bathrooms, and no basement is 80000, \n",
    "- each bedroom adds 30000 to the expected cost,\n",
    "- each bathroom adds 10000 to the expected cost, and\n",
    "- a basement adds 40000 to the expected cost.\n",
    "\n",
    "For instance,\n",
    "- a house with 1 bedroom, 1 bathroom, and no basement has an expected cost of 80000 + 30000 + 10000 = 120000.  This value will be calculated with `get_expected_cost(1, 1, False)`.\n",
    "- a house with 2 bedrooms, 1 bathroom, and a basement has an expected cost of 80000 + 2*30000 + 10000 + 40000 = 190000.  This value will be calculated with `get_expected_cost(2, 1, True)`.\n",
    "\n",
    "Remember you can always get a hint by uncommenting `q3.hint()` in the code cell following the next!"
   ]
  },
  {
   "cell_type": "code",
   "execution_count": 7,
   "id": "0ebda3fc",
   "metadata": {
    "execution": {
     "iopub.execute_input": "2023-06-03T08:58:44.245938Z",
     "iopub.status.busy": "2023-06-03T08:58:44.245492Z",
     "iopub.status.idle": "2023-06-03T08:58:44.254841Z",
     "shell.execute_reply": "2023-06-03T08:58:44.253717Z"
    },
    "papermill": {
     "duration": 0.021885,
     "end_time": "2023-06-03T08:58:44.256904",
     "exception": false,
     "start_time": "2023-06-03T08:58:44.235019",
     "status": "completed"
    },
    "tags": []
   },
   "outputs": [
    {
     "data": {
      "application/javascript": [
       "parent.postMessage({\"jupyterEvent\": \"custom.exercise_interaction\", \"data\": {\"outcomeType\": 1, \"valueTowardsCompletion\": 0.2, \"interactionType\": 1, \"questionType\": 2, \"questionId\": \"3_EstimateHouseValueBool\", \"learnToolsVersion\": \"0.3.4\", \"failureMessage\": \"\", \"exceptionClass\": \"\", \"trace\": \"\"}}, \"*\")"
      ],
      "text/plain": [
       "<IPython.core.display.Javascript object>"
      ]
     },
     "metadata": {},
     "output_type": "display_data"
    },
    {
     "data": {
      "text/markdown": [
       "<span style=\"color:#33cc33\">Correct</span>"
      ],
      "text/plain": [
       "Correct"
      ]
     },
     "metadata": {},
     "output_type": "display_data"
    }
   ],
   "source": [
    "# TODO: Complete the function\n",
    "def get_expected_cost(beds, baths, has_basement):\n",
    "    value = 80000 + 30000 * beds + 10000 * baths + 40000 * has_basement\n",
    "    return value\n",
    "\n",
    "# Check your answer \n",
    "q3.check()"
   ]
  },
  {
   "cell_type": "code",
   "execution_count": 8,
   "id": "78138e55",
   "metadata": {
    "execution": {
     "iopub.execute_input": "2023-06-03T08:58:44.277671Z",
     "iopub.status.busy": "2023-06-03T08:58:44.277028Z",
     "iopub.status.idle": "2023-06-03T08:58:44.280576Z",
     "shell.execute_reply": "2023-06-03T08:58:44.279914Z"
    },
    "papermill": {
     "duration": 0.016177,
     "end_time": "2023-06-03T08:58:44.282429",
     "exception": false,
     "start_time": "2023-06-03T08:58:44.266252",
     "status": "completed"
    },
    "tags": []
   },
   "outputs": [],
   "source": [
    "# Uncomment to see a hint\n",
    "#q3.hint()\n",
    "\n",
    "# Uncomment to view the solution\n",
    "#q3.solution()"
   ]
  },
  {
   "cell_type": "markdown",
   "id": "ba9db0ca",
   "metadata": {
    "papermill": {
     "duration": 0.0092,
     "end_time": "2023-06-03T08:58:44.300917",
     "exception": false,
     "start_time": "2023-06-03T08:58:44.291717",
     "status": "completed"
    },
    "tags": []
   },
   "source": [
    "# Question 4\n",
    "\n",
    "We'll continue our study of boolean arithmetic.  For this question, your task is to provide a description of what happpens when you add booleans. \n",
    "\n",
    "Use the next code cell for your investigation.  Feel free to add or remove any lines of code - use it as your workspace!"
   ]
  },
  {
   "cell_type": "code",
   "execution_count": 9,
   "id": "a9cead58",
   "metadata": {
    "execution": {
     "iopub.execute_input": "2023-06-03T08:58:44.321794Z",
     "iopub.status.busy": "2023-06-03T08:58:44.321128Z",
     "iopub.status.idle": "2023-06-03T08:58:44.326698Z",
     "shell.execute_reply": "2023-06-03T08:58:44.325807Z"
    },
    "papermill": {
     "duration": 0.018369,
     "end_time": "2023-06-03T08:58:44.328804",
     "exception": false,
     "start_time": "2023-06-03T08:58:44.310435",
     "status": "completed"
    },
    "tags": []
   },
   "outputs": [
    {
     "name": "stdout",
     "output_type": "stream",
     "text": [
      "0\n",
      "1\n",
      "1\n",
      "2\n",
      "3\n"
     ]
    }
   ],
   "source": [
    "print(False + False)\n",
    "print(True + False)\n",
    "print(False + True)\n",
    "print(True + True)\n",
    "print(False + True + True + True)"
   ]
  },
  {
   "cell_type": "markdown",
   "id": "0831e35c",
   "metadata": {
    "papermill": {
     "duration": 0.009125,
     "end_time": "2023-06-03T08:58:44.347396",
     "exception": false,
     "start_time": "2023-06-03T08:58:44.338271",
     "status": "completed"
    },
    "tags": []
   },
   "source": [
    "Once you have an answer, run the code cell below to see the solution.  Viewing the solution will give you credit for answering the problem."
   ]
  },
  {
   "cell_type": "code",
   "execution_count": 10,
   "id": "a4d5b358",
   "metadata": {
    "execution": {
     "iopub.execute_input": "2023-06-03T08:58:44.368380Z",
     "iopub.status.busy": "2023-06-03T08:58:44.367694Z",
     "iopub.status.idle": "2023-06-03T08:58:44.375505Z",
     "shell.execute_reply": "2023-06-03T08:58:44.374489Z"
    },
    "papermill": {
     "duration": 0.020726,
     "end_time": "2023-06-03T08:58:44.377709",
     "exception": false,
     "start_time": "2023-06-03T08:58:44.356983",
     "status": "completed"
    },
    "tags": []
   },
   "outputs": [
    {
     "data": {
      "application/javascript": [
       "parent.postMessage({\"jupyterEvent\": \"custom.exercise_interaction\", \"data\": {\"outcomeType\": 1, \"valueTowardsCompletion\": 0.2, \"interactionType\": 1, \"questionType\": 4, \"questionId\": \"4_AddingBooleans\", \"learnToolsVersion\": \"0.3.4\", \"failureMessage\": \"\", \"exceptionClass\": \"\", \"trace\": \"\"}}, \"*\")"
      ],
      "text/plain": [
       "<IPython.core.display.Javascript object>"
      ]
     },
     "metadata": {},
     "output_type": "display_data"
    },
    {
     "data": {
      "text/markdown": [
       "<span style=\"color:#33cc33\">Correct:</span> \n",
       "\n",
       "When you add booleans, adding `False` is equivalent to adding 0, and adding `True` is equivalent to adding 1."
      ],
      "text/plain": [
       "Correct: \n",
       "\n",
       "When you add booleans, adding `False` is equivalent to adding 0, and adding `True` is equivalent to adding 1."
      ]
     },
     "metadata": {},
     "output_type": "display_data"
    }
   ],
   "source": [
    "# Check your answer (Run this code cell to receive credit!)\n",
    "q4.check()"
   ]
  },
  {
   "cell_type": "markdown",
   "id": "840b77e5",
   "metadata": {
    "papermill": {
     "duration": 0.009676,
     "end_time": "2023-06-03T08:58:44.397263",
     "exception": false,
     "start_time": "2023-06-03T08:58:44.387587",
     "status": "completed"
    },
    "tags": []
   },
   "source": [
    "# 🌶️ Question 5\n",
    "\n",
    "You own an online shop where you sell rings with custom engravings.  You offer both gold plated and solid gold rings.\n",
    "- Gold plated rings have a base cost of \\\\$50, and you charge \\\\$7 per engraved unit.  \n",
    "- Solid gold rings have a base cost of \\\\$100, and you charge \\\\$10 per engraved unit.\n",
    "- Spaces and punctuation are counted as engraved units.\n",
    "\n",
    "Write a function `cost_of_project()` that takes two arguments:\n",
    "- `engraving` - a Python string with the text of the engraving\n",
    "- `solid_gold` - a Boolean that indicates whether the ring is solid gold\n",
    "\n",
    "It should return the cost of the project.  This question should be fairly challenging, and you may need a hint."
   ]
  },
  {
   "cell_type": "code",
   "execution_count": 11,
   "id": "cdb6b283",
   "metadata": {
    "execution": {
     "iopub.execute_input": "2023-06-03T08:58:44.419555Z",
     "iopub.status.busy": "2023-06-03T08:58:44.418783Z",
     "iopub.status.idle": "2023-06-03T08:58:44.428183Z",
     "shell.execute_reply": "2023-06-03T08:58:44.427339Z"
    },
    "papermill": {
     "duration": 0.023183,
     "end_time": "2023-06-03T08:58:44.430250",
     "exception": false,
     "start_time": "2023-06-03T08:58:44.407067",
     "status": "completed"
    },
    "tags": []
   },
   "outputs": [
    {
     "data": {
      "application/javascript": [
       "parent.postMessage({\"jupyterEvent\": \"custom.exercise_interaction\", \"data\": {\"outcomeType\": 1, \"valueTowardsCompletion\": 0.2, \"interactionType\": 1, \"questionType\": 2, \"questionId\": \"5_CustomEngravings\", \"learnToolsVersion\": \"0.3.4\", \"failureMessage\": \"\", \"exceptionClass\": \"\", \"trace\": \"\"}}, \"*\")"
      ],
      "text/plain": [
       "<IPython.core.display.Javascript object>"
      ]
     },
     "metadata": {},
     "output_type": "display_data"
    },
    {
     "data": {
      "text/markdown": [
       "<span style=\"color:#33cc33\">Correct</span>"
      ],
      "text/plain": [
       "Correct"
      ]
     },
     "metadata": {},
     "output_type": "display_data"
    }
   ],
   "source": [
    "def cost_of_project(engraving, solid_gold):\n",
    "    cost =  solid_gold * (100 + 10 * len(engraving)) + (not solid_gold) * (50 + 7 * len(engraving))\n",
    "    return cost\n",
    "\n",
    "# Check your answer\n",
    "q5.check()"
   ]
  },
  {
   "cell_type": "code",
   "execution_count": 12,
   "id": "5bfd8235",
   "metadata": {
    "execution": {
     "iopub.execute_input": "2023-06-03T08:58:44.452328Z",
     "iopub.status.busy": "2023-06-03T08:58:44.451694Z",
     "iopub.status.idle": "2023-06-03T08:58:44.460045Z",
     "shell.execute_reply": "2023-06-03T08:58:44.459150Z"
    },
    "papermill": {
     "duration": 0.021837,
     "end_time": "2023-06-03T08:58:44.462165",
     "exception": false,
     "start_time": "2023-06-03T08:58:44.440328",
     "status": "completed"
    },
    "tags": []
   },
   "outputs": [
    {
     "data": {
      "application/javascript": [
       "parent.postMessage({\"jupyterEvent\": \"custom.exercise_interaction\", \"data\": {\"interactionType\": 2, \"questionType\": 2, \"questionId\": \"5_CustomEngravings\", \"learnToolsVersion\": \"0.3.4\", \"valueTowardsCompletion\": 0.0, \"failureMessage\": \"\", \"exceptionClass\": \"\", \"trace\": \"\", \"outcomeType\": 4}}, \"*\")"
      ],
      "text/plain": [
       "<IPython.core.display.Javascript object>"
      ]
     },
     "metadata": {},
     "output_type": "display_data"
    },
    {
     "data": {
      "text/markdown": [
       "<span style=\"color:#3366cc\">Hint:</span> There are two options - either the project uses solid gold or does not.  With this in mind, you can structure your solution like this: `cost = solid_gold * ____ + (not solid_gold) * ____`.  You need to figure out how to fill in the blanks. Also, remember that:\n",
       "- If `solid_gold = True`, then `(not solid_gold) = False`, and if `solid_gold = False`, then `(not solid_gold) = True`.\n",
       "- Multiplying an integer by `True` is equivalent to multiplying it by 1, and multiplying an integer by `False` is equivalent to multiplying it by 0."
      ],
      "text/plain": [
       "Hint: There are two options - either the project uses solid gold or does not.  With this in mind, you can structure your solution like this: `cost = solid_gold * ____ + (not solid_gold) * ____`.  You need to figure out how to fill in the blanks. Also, remember that:\n",
       "- If `solid_gold = True`, then `(not solid_gold) = False`, and if `solid_gold = False`, then `(not solid_gold) = True`.\n",
       "- Multiplying an integer by `True` is equivalent to multiplying it by 1, and multiplying an integer by `False` is equivalent to multiplying it by 0."
      ]
     },
     "metadata": {},
     "output_type": "display_data"
    }
   ],
   "source": [
    "# Uncomment to see a hint\n",
    "q5.hint()\n",
    "\n",
    "# Uncomment to view the solution\n",
    "#q5.solution()"
   ]
  },
  {
   "cell_type": "markdown",
   "id": "20b4061a",
   "metadata": {
    "papermill": {
     "duration": 0.009915,
     "end_time": "2023-06-03T08:58:44.482261",
     "exception": false,
     "start_time": "2023-06-03T08:58:44.472346",
     "status": "completed"
    },
    "tags": []
   },
   "source": [
    "Run the next code cell to calculate the cost of engraving `Charlie+Denver` on a solid gold ring."
   ]
  },
  {
   "cell_type": "code",
   "execution_count": 13,
   "id": "6ea8397e",
   "metadata": {
    "execution": {
     "iopub.execute_input": "2023-06-03T08:58:44.504494Z",
     "iopub.status.busy": "2023-06-03T08:58:44.504136Z",
     "iopub.status.idle": "2023-06-03T08:58:44.509707Z",
     "shell.execute_reply": "2023-06-03T08:58:44.508529Z"
    },
    "papermill": {
     "duration": 0.019513,
     "end_time": "2023-06-03T08:58:44.511979",
     "exception": false,
     "start_time": "2023-06-03T08:58:44.492466",
     "status": "completed"
    },
    "tags": []
   },
   "outputs": [
    {
     "name": "stdout",
     "output_type": "stream",
     "text": [
      "240\n"
     ]
    }
   ],
   "source": [
    "project_one = cost_of_project(\"Charlie+Denver\", True)\n",
    "print(project_one)"
   ]
  },
  {
   "cell_type": "markdown",
   "id": "a1f51fbd",
   "metadata": {
    "papermill": {
     "duration": 0.01033,
     "end_time": "2023-06-03T08:58:44.532930",
     "exception": false,
     "start_time": "2023-06-03T08:58:44.522600",
     "status": "completed"
    },
    "tags": []
   },
   "source": [
    "Use the next code cell to calculate the cost of engraving `08/10/2000` on a gold plated ring."
   ]
  },
  {
   "cell_type": "code",
   "execution_count": 14,
   "id": "0411fe7c",
   "metadata": {
    "execution": {
     "iopub.execute_input": "2023-06-03T08:58:44.555688Z",
     "iopub.status.busy": "2023-06-03T08:58:44.555024Z",
     "iopub.status.idle": "2023-06-03T08:58:44.560465Z",
     "shell.execute_reply": "2023-06-03T08:58:44.559513Z"
    },
    "papermill": {
     "duration": 0.019423,
     "end_time": "2023-06-03T08:58:44.562527",
     "exception": false,
     "start_time": "2023-06-03T08:58:44.543104",
     "status": "completed"
    },
    "tags": []
   },
   "outputs": [
    {
     "name": "stdout",
     "output_type": "stream",
     "text": [
      "120\n"
     ]
    }
   ],
   "source": [
    "project_two = cost_of_project(\"08/10/2000\", False)\n",
    "print(project_two)"
   ]
  },
  {
   "cell_type": "markdown",
   "id": "88d267e1",
   "metadata": {
    "papermill": {
     "duration": 0.010194,
     "end_time": "2023-06-03T08:58:44.583282",
     "exception": false,
     "start_time": "2023-06-03T08:58:44.573088",
     "status": "completed"
    },
    "tags": []
   },
   "source": [
    "# Keep going\n",
    "\n",
    "Continue to the next lesson to **[learn about conditions and conditional statements](https://www.kaggle.com/alexisbcook/conditions-and-conditional-statements)**."
   ]
  },
  {
   "cell_type": "markdown",
   "id": "0701aa57",
   "metadata": {
    "papermill": {
     "duration": 0.009857,
     "end_time": "2023-06-03T08:58:44.603579",
     "exception": false,
     "start_time": "2023-06-03T08:58:44.593722",
     "status": "completed"
    },
    "tags": []
   },
   "source": [
    "---\n",
    "\n",
    "\n",
    "\n",
    "\n",
    "*Have questions or comments? Visit the [course discussion forum](https://www.kaggle.com/learn/intro-to-programming/discussion) to chat with other learners.*"
   ]
  }
 ],
 "metadata": {
  "kernelspec": {
   "display_name": "Python 3",
   "language": "python",
   "name": "python3"
  },
  "language_info": {
   "codemirror_mode": {
    "name": "ipython",
    "version": 3
   },
   "file_extension": ".py",
   "mimetype": "text/x-python",
   "name": "python",
   "nbconvert_exporter": "python",
   "pygments_lexer": "ipython3",
   "version": "3.10.10"
  },
  "papermill": {
   "default_parameters": {},
   "duration": 13.277097,
   "end_time": "2023-06-03T08:58:45.435344",
   "environment_variables": {},
   "exception": null,
   "input_path": "__notebook__.ipynb",
   "output_path": "__notebook__.ipynb",
   "parameters": {},
   "start_time": "2023-06-03T08:58:32.158247",
   "version": "2.4.0"
  }
 },
 "nbformat": 4,
 "nbformat_minor": 5
}
