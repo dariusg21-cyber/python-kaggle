{
 "cells": [
  {
   "cell_type": "markdown",
   "id": "4871464c",
   "metadata": {
    "papermill": {
     "duration": 0.005692,
     "end_time": "2023-06-03T08:32:43.114890",
     "exception": false,
     "start_time": "2023-06-03T08:32:43.109198",
     "status": "completed"
    },
    "tags": []
   },
   "source": [
    "**This notebook is an exercise in the [Intro to Programming](https://www.kaggle.com/learn/intro-to-programming) course.  You can reference the tutorial at [this link](https://www.kaggle.com/alexisbcook/functions).**\n",
    "\n",
    "---\n"
   ]
  },
  {
   "cell_type": "markdown",
   "id": "4b8a51e0",
   "metadata": {
    "papermill": {
     "duration": 0.004934,
     "end_time": "2023-06-03T08:32:43.125175",
     "exception": false,
     "start_time": "2023-06-03T08:32:43.120241",
     "status": "completed"
    },
    "tags": []
   },
   "source": [
    "In the tutorial, you learned about functions. In this exercise, you'll write some of your own!\n",
    "\n",
    "# Set up the notebook\n",
    "\n",
    "Run the next code cell without changes to set up the notebook."
   ]
  },
  {
   "cell_type": "code",
   "execution_count": 1,
   "id": "a3e43b61",
   "metadata": {
    "execution": {
     "iopub.execute_input": "2023-06-03T08:32:43.136735Z",
     "iopub.status.busy": "2023-06-03T08:32:43.136418Z",
     "iopub.status.idle": "2023-06-03T08:32:43.174681Z",
     "shell.execute_reply": "2023-06-03T08:32:43.173813Z"
    },
    "papermill": {
     "duration": 0.046591,
     "end_time": "2023-06-03T08:32:43.176753",
     "exception": false,
     "start_time": "2023-06-03T08:32:43.130162",
     "status": "completed"
    },
    "tags": []
   },
   "outputs": [
    {
     "name": "stdout",
     "output_type": "stream",
     "text": [
      "Setup complete.\n"
     ]
    }
   ],
   "source": [
    "# Set up the exercise\n",
    "import math\n",
    "from learntools.core import binder\n",
    "binder.bind(globals())\n",
    "from learntools.intro_to_programming.ex2 import *\n",
    "print('Setup complete.')"
   ]
  },
  {
   "cell_type": "markdown",
   "id": "14447b32",
   "metadata": {
    "papermill": {
     "duration": 0.004809,
     "end_time": "2023-06-03T08:32:43.187043",
     "exception": false,
     "start_time": "2023-06-03T08:32:43.182234",
     "status": "completed"
    },
    "tags": []
   },
   "source": [
    "# Question 1\n",
    "\n",
    "In the [House Prices - Advanced Regression Techniques competition](https://www.kaggle.com/c/house-prices-advanced-regression-techniques/overview), you need to use information like the number of bedrooms and bathrooms to predict the price of a house.  Inspired by this competition, you'll write your own function to do this.\n",
    "\n",
    "In the next code cell, create a function `get_expected_cost()` that has two arguments:\n",
    "- `beds` - number of bedrooms \n",
    "- `baths` - number of bathrooms\n",
    "\n",
    "It should return the expected cost of a house with that number of bedrooms and bathrooms.  Assume that:\n",
    "- the expected cost for a house with 0 bedrooms and 0 bathrooms is `80000`.  \n",
    "- each bedroom adds `30000` to the expected cost\n",
    "- each bathroom adds `10000` to the expected cost.\n",
    "\n",
    "For instance, \n",
    "- a house with 1 bedroom and 1 bathroom has an expected cost of `120000`, and \n",
    "- a house with 2 bedrooms and 1 bathroom has an expected cost of `150000`."
   ]
  },
  {
   "cell_type": "code",
   "execution_count": 2,
   "id": "bdc3d063",
   "metadata": {
    "execution": {
     "iopub.execute_input": "2023-06-03T08:32:43.199861Z",
     "iopub.status.busy": "2023-06-03T08:32:43.199543Z",
     "iopub.status.idle": "2023-06-03T08:32:43.208540Z",
     "shell.execute_reply": "2023-06-03T08:32:43.208009Z"
    },
    "papermill": {
     "duration": 0.018028,
     "end_time": "2023-06-03T08:32:43.210030",
     "exception": false,
     "start_time": "2023-06-03T08:32:43.192002",
     "status": "completed"
    },
    "tags": []
   },
   "outputs": [
    {
     "data": {
      "application/javascript": [
       "parent.postMessage({\"jupyterEvent\": \"custom.exercise_interaction\", \"data\": {\"outcomeType\": 1, \"valueTowardsCompletion\": 0.2, \"interactionType\": 1, \"questionType\": 2, \"questionId\": \"1_GetExpectedCost\", \"learnToolsVersion\": \"0.3.4\", \"failureMessage\": \"\", \"exceptionClass\": \"\", \"trace\": \"\"}}, \"*\")"
      ],
      "text/plain": [
       "<IPython.core.display.Javascript object>"
      ]
     },
     "metadata": {},
     "output_type": "display_data"
    },
    {
     "data": {
      "text/markdown": [
       "<span style=\"color:#33cc33\">Correct</span>"
      ],
      "text/plain": [
       "Correct"
      ]
     },
     "metadata": {},
     "output_type": "display_data"
    }
   ],
   "source": [
    "# TODO: Complete the function\n",
    "def get_expected_cost(beds, baths):\n",
    "    value = 80000 + 30000 * beds + 10000 * baths\n",
    "    return value\n",
    "\n",
    "# Check your answer \n",
    "q1.check()"
   ]
  },
  {
   "cell_type": "markdown",
   "id": "7e9df6c1",
   "metadata": {
    "papermill": {
     "duration": 0.005037,
     "end_time": "2023-06-03T08:32:43.220400",
     "exception": false,
     "start_time": "2023-06-03T08:32:43.215363",
     "status": "completed"
    },
    "tags": []
   },
   "source": []
  },
  {
   "cell_type": "markdown",
   "id": "31fc9a40",
   "metadata": {
    "papermill": {
     "duration": 0.005109,
     "end_time": "2023-06-03T08:32:43.230778",
     "exception": false,
     "start_time": "2023-06-03T08:32:43.225669",
     "status": "completed"
    },
    "tags": []
   },
   "source": []
  },
  {
   "cell_type": "code",
   "execution_count": 3,
   "id": "8c3d3d8e",
   "metadata": {
    "execution": {
     "iopub.execute_input": "2023-06-03T08:32:43.242801Z",
     "iopub.status.busy": "2023-06-03T08:32:43.241997Z",
     "iopub.status.idle": "2023-06-03T08:32:43.246455Z",
     "shell.execute_reply": "2023-06-03T08:32:43.245811Z"
    },
    "papermill": {
     "duration": 0.012245,
     "end_time": "2023-06-03T08:32:43.248166",
     "exception": false,
     "start_time": "2023-06-03T08:32:43.235921",
     "status": "completed"
    },
    "tags": []
   },
   "outputs": [],
   "source": [
    "# Uncomment to see a hint\n",
    "\n",
    "#q1.hint()\n",
    "\n",
    "# Uncomment to view the solution\n",
    "#q1.solution()"
   ]
  },
  {
   "cell_type": "markdown",
   "id": "af3827e7",
   "metadata": {
    "papermill": {
     "duration": 0.00563,
     "end_time": "2023-06-03T08:32:43.259216",
     "exception": false,
     "start_time": "2023-06-03T08:32:43.253586",
     "status": "completed"
    },
    "tags": []
   },
   "source": [
    "# Question 2\n",
    "\n",
    "You are thinking about buying a home and want to get an idea of how much you will spend, based on the number of bedrooms and bathrooms.  You are trying to decide between four different options:\n",
    "- Option 1: house with two bedrooms and three bathrooms\n",
    "- Option 2: house with three bedrooms and two bathrooms\n",
    "- Option 3: house with three bedrooms and three bathrooms\n",
    "- Option 4: house with three bedrooms and four bathrooms\n",
    "\n",
    "Use the `get_expected_cost()` function you defined in question 1 to set `option_1`, `option_2`, `option_3`, and `option_4` to the expected cost of each option."
   ]
  },
  {
   "cell_type": "code",
   "execution_count": 4,
   "id": "595ec5d8",
   "metadata": {
    "execution": {
     "iopub.execute_input": "2023-06-03T08:32:43.271842Z",
     "iopub.status.busy": "2023-06-03T08:32:43.270866Z",
     "iopub.status.idle": "2023-06-03T08:32:43.280766Z",
     "shell.execute_reply": "2023-06-03T08:32:43.279652Z"
    },
    "papermill": {
     "duration": 0.017766,
     "end_time": "2023-06-03T08:32:43.282518",
     "exception": false,
     "start_time": "2023-06-03T08:32:43.264752",
     "status": "completed"
    },
    "tags": []
   },
   "outputs": [
    {
     "name": "stdout",
     "output_type": "stream",
     "text": [
      "170000\n",
      "190000\n",
      "200000\n",
      "210000\n"
     ]
    },
    {
     "data": {
      "application/javascript": [
       "parent.postMessage({\"jupyterEvent\": \"custom.exercise_interaction\", \"data\": {\"outcomeType\": 1, \"valueTowardsCompletion\": 0.2, \"interactionType\": 1, \"questionType\": 1, \"questionId\": \"2_RunGetExpectedCost\", \"learnToolsVersion\": \"0.3.4\", \"failureMessage\": \"\", \"exceptionClass\": \"\", \"trace\": \"\"}}, \"*\")"
      ],
      "text/plain": [
       "<IPython.core.display.Javascript object>"
      ]
     },
     "metadata": {},
     "output_type": "display_data"
    },
    {
     "data": {
      "text/markdown": [
       "<span style=\"color:#33cc33\">Correct</span>"
      ],
      "text/plain": [
       "Correct"
      ]
     },
     "metadata": {},
     "output_type": "display_data"
    }
   ],
   "source": [
    "# TODO: Use the get_expected_cost function to fill in each value\n",
    "option_one = get_expected_cost(2, 3)\n",
    "option_two = get_expected_cost(3, 2)\n",
    "option_three = get_expected_cost(3, 3)\n",
    "option_four = get_expected_cost(3, 4)\n",
    "\n",
    "print(option_one)\n",
    "print(option_two)\n",
    "print(option_three)\n",
    "print(option_four)\n",
    "\n",
    "# Check your answer\n",
    "q2.check()"
   ]
  },
  {
   "cell_type": "code",
   "execution_count": 5,
   "id": "d0ce0de7",
   "metadata": {
    "execution": {
     "iopub.execute_input": "2023-06-03T08:32:43.295453Z",
     "iopub.status.busy": "2023-06-03T08:32:43.294497Z",
     "iopub.status.idle": "2023-06-03T08:32:43.298424Z",
     "shell.execute_reply": "2023-06-03T08:32:43.297778Z"
    },
    "papermill": {
     "duration": 0.011911,
     "end_time": "2023-06-03T08:32:43.299953",
     "exception": false,
     "start_time": "2023-06-03T08:32:43.288042",
     "status": "completed"
    },
    "tags": []
   },
   "outputs": [],
   "source": [
    "# Uncomment to see a hint\n",
    "#q2.hint()\n",
    "\n",
    "# Uncomment to view the solution\n",
    "#q2.solution()"
   ]
  },
  {
   "cell_type": "markdown",
   "id": "e916dbb7",
   "metadata": {
    "papermill": {
     "duration": 0.005173,
     "end_time": "2023-06-03T08:32:43.310534",
     "exception": false,
     "start_time": "2023-06-03T08:32:43.305361",
     "status": "completed"
    },
    "tags": []
   },
   "source": [
    "# Question 3\n",
    "\n",
    "You're a home decorator, and you'd like to use Python to streamline some of your work.  Specifically, you're creating a tool that you intend to use to calculate the cost of painting a room.\n",
    "\n",
    "As a first step, define a function `get_cost()` that takes as input:\n",
    "- `sqft_walls` = total square feet of walls to be painted\n",
    "- `sqft_ceiling` = square feet of ceiling to be painted\n",
    "- `sqft_per_gallon` = number of square feet that you can cover with one gallon of paint\n",
    "- `cost_per_gallon` = cost (in dollars) of one gallon of paint\n",
    "\n",
    "It should return the cost (in dollars) of putting one coat of paint on all walls and the ceiling.  Assume you can buy the exact amount of paint that you need, so you can buy partial gallons (e.g., if you need 7.523 gallons, you can buy that exact amount, instead of needing to buy 8 gallons and waste some paint).  Do not round your answer."
   ]
  },
  {
   "cell_type": "code",
   "execution_count": 6,
   "id": "f49af0da",
   "metadata": {
    "execution": {
     "iopub.execute_input": "2023-06-03T08:32:43.323243Z",
     "iopub.status.busy": "2023-06-03T08:32:43.322326Z",
     "iopub.status.idle": "2023-06-03T08:32:43.329995Z",
     "shell.execute_reply": "2023-06-03T08:32:43.329149Z"
    },
    "papermill": {
     "duration": 0.015718,
     "end_time": "2023-06-03T08:32:43.331554",
     "exception": false,
     "start_time": "2023-06-03T08:32:43.315836",
     "status": "completed"
    },
    "tags": []
   },
   "outputs": [
    {
     "data": {
      "application/javascript": [
       "parent.postMessage({\"jupyterEvent\": \"custom.exercise_interaction\", \"data\": {\"outcomeType\": 1, \"valueTowardsCompletion\": 0.2, \"interactionType\": 1, \"questionType\": 2, \"questionId\": \"3_GetCostPaint\", \"learnToolsVersion\": \"0.3.4\", \"failureMessage\": \"\", \"exceptionClass\": \"\", \"trace\": \"\"}}, \"*\")"
      ],
      "text/plain": [
       "<IPython.core.display.Javascript object>"
      ]
     },
     "metadata": {},
     "output_type": "display_data"
    },
    {
     "data": {
      "text/markdown": [
       "<span style=\"color:#33cc33\">Correct</span>"
      ],
      "text/plain": [
       "Correct"
      ]
     },
     "metadata": {},
     "output_type": "display_data"
    }
   ],
   "source": [
    "# TODO: Finish defining the function\n",
    "def get_cost(sqft_walls, sqft_ceiling, sqft_per_gallon, cost_per_gallon):\n",
    "    cost =  total_sqft = sqft_walls + sqft_ceiling\n",
    "    gallons_needed = total_sqft / sqft_per_gallon\n",
    "    cost = cost_per_gallon * gallons_needed\n",
    "    return cost\n",
    "\n",
    "# Check your answer\n",
    "q3.check()"
   ]
  },
  {
   "cell_type": "code",
   "execution_count": 7,
   "id": "4f1ab2f6",
   "metadata": {
    "execution": {
     "iopub.execute_input": "2023-06-03T08:32:43.344339Z",
     "iopub.status.busy": "2023-06-03T08:32:43.343979Z",
     "iopub.status.idle": "2023-06-03T08:32:43.347821Z",
     "shell.execute_reply": "2023-06-03T08:32:43.346998Z"
    },
    "papermill": {
     "duration": 0.011997,
     "end_time": "2023-06-03T08:32:43.349312",
     "exception": false,
     "start_time": "2023-06-03T08:32:43.337315",
     "status": "completed"
    },
    "tags": []
   },
   "outputs": [],
   "source": [
    "# Uncomment to see a hint\n",
    "#q3.hint()\n",
    "\n",
    "# Uncomment to view the solution\n",
    "#q3.solution()"
   ]
  },
  {
   "cell_type": "markdown",
   "id": "12ad9661",
   "metadata": {
    "papermill": {
     "duration": 0.005394,
     "end_time": "2023-06-03T08:32:43.360151",
     "exception": false,
     "start_time": "2023-06-03T08:32:43.354757",
     "status": "completed"
    },
    "tags": []
   },
   "source": [
    "# Question 4\n",
    "\n",
    "Use the `get_cost()` function you defined in Question 3 to calculate the cost of applying one coat of paint to a room with:\n",
    "- 432 square feet of walls, and\n",
    "- 144 square feet of ceiling.\n",
    "\n",
    "Assume that one gallon of paint covers 400 square feet and costs $15.  As in Question 3, assume you can buy partial gallons of paint.  Do not round your answer."
   ]
  },
  {
   "cell_type": "code",
   "execution_count": 8,
   "id": "5776b3c9",
   "metadata": {
    "execution": {
     "iopub.execute_input": "2023-06-03T08:32:43.372813Z",
     "iopub.status.busy": "2023-06-03T08:32:43.372467Z",
     "iopub.status.idle": "2023-06-03T08:32:43.379185Z",
     "shell.execute_reply": "2023-06-03T08:32:43.378455Z"
    },
    "papermill": {
     "duration": 0.014913,
     "end_time": "2023-06-03T08:32:43.380670",
     "exception": false,
     "start_time": "2023-06-03T08:32:43.365757",
     "status": "completed"
    },
    "tags": []
   },
   "outputs": [
    {
     "data": {
      "application/javascript": [
       "parent.postMessage({\"jupyterEvent\": \"custom.exercise_interaction\", \"data\": {\"outcomeType\": 1, \"valueTowardsCompletion\": 0.2, \"interactionType\": 1, \"questionType\": 1, \"questionId\": \"4_GetCostPaintExample\", \"learnToolsVersion\": \"0.3.4\", \"failureMessage\": \"\", \"exceptionClass\": \"\", \"trace\": \"\"}}, \"*\")"
      ],
      "text/plain": [
       "<IPython.core.display.Javascript object>"
      ]
     },
     "metadata": {},
     "output_type": "display_data"
    },
    {
     "data": {
      "text/markdown": [
       "<span style=\"color:#33cc33\">Correct</span>"
      ],
      "text/plain": [
       "Correct"
      ]
     },
     "metadata": {},
     "output_type": "display_data"
    }
   ],
   "source": [
    "# TODO: Set the project_cost variable to the cost of the project\n",
    "project_cost = get_cost(432, 144, 400, 15)\n",
    "\n",
    "# Check your answer\n",
    "q4.check()"
   ]
  },
  {
   "cell_type": "code",
   "execution_count": 9,
   "id": "5111b7dd",
   "metadata": {
    "execution": {
     "iopub.execute_input": "2023-06-03T08:32:43.393944Z",
     "iopub.status.busy": "2023-06-03T08:32:43.393242Z",
     "iopub.status.idle": "2023-06-03T08:32:43.397444Z",
     "shell.execute_reply": "2023-06-03T08:32:43.396480Z"
    },
    "papermill": {
     "duration": 0.012572,
     "end_time": "2023-06-03T08:32:43.398994",
     "exception": false,
     "start_time": "2023-06-03T08:32:43.386422",
     "status": "completed"
    },
    "tags": []
   },
   "outputs": [],
   "source": [
    "# Uncomment to see a hint\n",
    "#q4.hint()\n",
    "\n",
    "# Uncomment to view the solution\n",
    "#q4.solution()"
   ]
  },
  {
   "cell_type": "markdown",
   "id": "138ce86a",
   "metadata": {
    "papermill": {
     "duration": 0.005519,
     "end_time": "2023-06-03T08:32:43.410216",
     "exception": false,
     "start_time": "2023-06-03T08:32:43.404697",
     "status": "completed"
    },
    "tags": []
   },
   "source": [
    "# 🌶️ Question 5\n",
    "\n",
    "Now say you can no longer buy fractions of a gallon.  (For instance, if you need 4.3 gallons to do a project, then you have to buy 5 gallons of paint.)\n",
    "\n",
    "With this new scenario, you will create a new function `get_actual_cost` that uses the same inputs and calculates the cost of your project.\n",
    "\n",
    "One function that you'll need to use to do this is `math.ceil()`.  We demonstrate usage of this function in the code cell below.  It takes as a number as input and rounds the number up to the nearest integer.  \n",
    "\n",
    "Run the next code cell to test this function for yourself.  Feel free to change the value of `test_value` and make sure `math.ceil()` returns the number you expect."
   ]
  },
  {
   "cell_type": "code",
   "execution_count": 10,
   "id": "f7b8fb78",
   "metadata": {
    "execution": {
     "iopub.execute_input": "2023-06-03T08:32:43.423691Z",
     "iopub.status.busy": "2023-06-03T08:32:43.422794Z",
     "iopub.status.idle": "2023-06-03T08:32:43.427679Z",
     "shell.execute_reply": "2023-06-03T08:32:43.426911Z"
    },
    "papermill": {
     "duration": 0.013544,
     "end_time": "2023-06-03T08:32:43.429476",
     "exception": false,
     "start_time": "2023-06-03T08:32:43.415932",
     "status": "completed"
    },
    "tags": []
   },
   "outputs": [
    {
     "name": "stdout",
     "output_type": "stream",
     "text": [
      "3\n"
     ]
    }
   ],
   "source": [
    "test_value = 2.17\n",
    "\n",
    "rounded_value = math.ceil(test_value)\n",
    "print(rounded_value)"
   ]
  },
  {
   "cell_type": "markdown",
   "id": "05e55d84",
   "metadata": {
    "papermill": {
     "duration": 0.005772,
     "end_time": "2023-06-03T08:32:43.441818",
     "exception": false,
     "start_time": "2023-06-03T08:32:43.436046",
     "status": "completed"
    },
    "tags": []
   },
   "source": [
    "Use the next code cell to define the function `get_actual_cost()`.  You'll need to use the `math.ceil()` function to do this.\n",
    "\n",
    "When answering this question, note that it's completely valid to define a function that makes use of another function.  For instance, we can define a function `round_up_and_divide_by_three` that makes use of the `math.ceil` function:\n",
    "```\n",
    "def round_up_and_divide_by_three(num):\n",
    "    new_value = math.ceil(num)\n",
    "    final_value = new_value / 3\n",
    "    return final_value\n",
    "```"
   ]
  },
  {
   "cell_type": "code",
   "execution_count": 11,
   "id": "843d8550",
   "metadata": {
    "execution": {
     "iopub.execute_input": "2023-06-03T08:32:43.455036Z",
     "iopub.status.busy": "2023-06-03T08:32:43.454671Z",
     "iopub.status.idle": "2023-06-03T08:32:43.462531Z",
     "shell.execute_reply": "2023-06-03T08:32:43.461783Z"
    },
    "papermill": {
     "duration": 0.016449,
     "end_time": "2023-06-03T08:32:43.464208",
     "exception": false,
     "start_time": "2023-06-03T08:32:43.447759",
     "status": "completed"
    },
    "tags": []
   },
   "outputs": [
    {
     "data": {
      "application/javascript": [
       "parent.postMessage({\"jupyterEvent\": \"custom.exercise_interaction\", \"data\": {\"outcomeType\": 1, \"valueTowardsCompletion\": 0.2, \"interactionType\": 1, \"questionType\": 2, \"questionId\": \"5_NoMoreFractions\", \"learnToolsVersion\": \"0.3.4\", \"failureMessage\": \"\", \"exceptionClass\": \"\", \"trace\": \"\"}}, \"*\")"
      ],
      "text/plain": [
       "<IPython.core.display.Javascript object>"
      ]
     },
     "metadata": {},
     "output_type": "display_data"
    },
    {
     "data": {
      "text/markdown": [
       "<span style=\"color:#33cc33\">Correct</span>"
      ],
      "text/plain": [
       "Correct"
      ]
     },
     "metadata": {},
     "output_type": "display_data"
    }
   ],
   "source": [
    "def get_actual_cost(sqft_walls, sqft_ceiling, sqft_per_gallon, cost_per_gallon):\n",
    "    total_sqft = sqft_walls + sqft_ceiling\n",
    "    gallons_needed = total_sqft / sqft_per_gallon\n",
    "    gallons_to_buy = math.ceil(gallons_needed)\n",
    "    cost = cost_per_gallon * gallons_to_buy\n",
    "    return cost\n",
    "\n",
    "# Check your answer\n",
    "q5.check()"
   ]
  },
  {
   "cell_type": "code",
   "execution_count": 12,
   "id": "b4f68c94",
   "metadata": {
    "execution": {
     "iopub.execute_input": "2023-06-03T08:32:43.478495Z",
     "iopub.status.busy": "2023-06-03T08:32:43.478198Z",
     "iopub.status.idle": "2023-06-03T08:32:43.482525Z",
     "shell.execute_reply": "2023-06-03T08:32:43.481644Z"
    },
    "papermill": {
     "duration": 0.013504,
     "end_time": "2023-06-03T08:32:43.484275",
     "exception": false,
     "start_time": "2023-06-03T08:32:43.470771",
     "status": "completed"
    },
    "tags": []
   },
   "outputs": [],
   "source": [
    "# Uncomment to see a hint\n",
    "#q5.hint()\n",
    "\n",
    "# Uncomment to view the solution\n",
    "#q5.solution()"
   ]
  },
  {
   "cell_type": "markdown",
   "id": "860e133f",
   "metadata": {
    "papermill": {
     "duration": 0.005916,
     "end_time": "2023-06-03T08:32:43.496769",
     "exception": false,
     "start_time": "2023-06-03T08:32:43.490853",
     "status": "completed"
    },
    "tags": []
   },
   "source": [
    "Once your function is verified as correct, run the next code cell to calculate the updated cost of your project."
   ]
  },
  {
   "cell_type": "code",
   "execution_count": 13,
   "id": "34008b8e",
   "metadata": {
    "execution": {
     "iopub.execute_input": "2023-06-03T08:32:43.510087Z",
     "iopub.status.busy": "2023-06-03T08:32:43.509761Z",
     "iopub.status.idle": "2023-06-03T08:32:43.514989Z",
     "shell.execute_reply": "2023-06-03T08:32:43.514018Z"
    },
    "papermill": {
     "duration": 0.013673,
     "end_time": "2023-06-03T08:32:43.516503",
     "exception": false,
     "start_time": "2023-06-03T08:32:43.502830",
     "status": "completed"
    },
    "tags": []
   },
   "outputs": [
    {
     "data": {
      "text/plain": [
       "30"
      ]
     },
     "execution_count": 13,
     "metadata": {},
     "output_type": "execute_result"
    }
   ],
   "source": [
    "get_actual_cost(432, 144, 400, 15) "
   ]
  },
  {
   "cell_type": "markdown",
   "id": "8a5257d4",
   "metadata": {
    "papermill": {
     "duration": 0.005989,
     "end_time": "2023-06-03T08:32:43.528584",
     "exception": false,
     "start_time": "2023-06-03T08:32:43.522595",
     "status": "completed"
    },
    "tags": []
   },
   "source": [
    "Say you're working with a slightly larger room.  Run the next code cell to calculate the cost of the project."
   ]
  },
  {
   "cell_type": "code",
   "execution_count": 14,
   "id": "2f6709e5",
   "metadata": {
    "execution": {
     "iopub.execute_input": "2023-06-03T08:32:43.544085Z",
     "iopub.status.busy": "2023-06-03T08:32:43.543479Z",
     "iopub.status.idle": "2023-06-03T08:32:43.548972Z",
     "shell.execute_reply": "2023-06-03T08:32:43.548123Z"
    },
    "papermill": {
     "duration": 0.015265,
     "end_time": "2023-06-03T08:32:43.550711",
     "exception": false,
     "start_time": "2023-06-03T08:32:43.535446",
     "status": "completed"
    },
    "tags": []
   },
   "outputs": [
    {
     "data": {
      "text/plain": [
       "45"
      ]
     },
     "execution_count": 14,
     "metadata": {},
     "output_type": "execute_result"
    }
   ],
   "source": [
    "get_actual_cost(594, 288, 400, 15) "
   ]
  },
  {
   "cell_type": "markdown",
   "id": "f7ebcb4d",
   "metadata": {
    "papermill": {
     "duration": 0.006211,
     "end_time": "2023-06-03T08:32:43.563843",
     "exception": false,
     "start_time": "2023-06-03T08:32:43.557632",
     "status": "completed"
    },
    "tags": []
   },
   "source": [
    "# Keep going\n",
    "\n",
    "Continue to learn about **[data types](https://www.kaggle.com/alexisbcook/data-types)**."
   ]
  },
  {
   "cell_type": "markdown",
   "id": "1684d033",
   "metadata": {
    "papermill": {
     "duration": 0.006265,
     "end_time": "2023-06-03T08:32:43.576591",
     "exception": false,
     "start_time": "2023-06-03T08:32:43.570326",
     "status": "completed"
    },
    "tags": []
   },
   "source": [
    "---\n",
    "\n",
    "\n",
    "\n",
    "\n",
    "*Have questions or comments? Visit the [course discussion forum](https://www.kaggle.com/learn/intro-to-programming/discussion) to chat with other learners.*"
   ]
  }
 ],
 "metadata": {
  "kernelspec": {
   "display_name": "Python 3",
   "language": "python",
   "name": "python3"
  },
  "language_info": {
   "codemirror_mode": {
    "name": "ipython",
    "version": 3
   },
   "file_extension": ".py",
   "mimetype": "text/x-python",
   "name": "python",
   "nbconvert_exporter": "python",
   "pygments_lexer": "ipython3",
   "version": "3.10.10"
  },
  "papermill": {
   "default_parameters": {},
   "duration": 11.193719,
   "end_time": "2023-06-03T08:32:46.458885",
   "environment_variables": {},
   "exception": null,
   "input_path": "__notebook__.ipynb",
   "output_path": "__notebook__.ipynb",
   "parameters": {},
   "start_time": "2023-06-03T08:32:35.265166",
   "version": "2.4.0"
  }
 },
 "nbformat": 4,
 "nbformat_minor": 5
}
